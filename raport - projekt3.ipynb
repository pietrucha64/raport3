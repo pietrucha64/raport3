{
 "cells": [
  {
   "cell_type": "markdown",
   "metadata": {},
   "source": [
    "# TECHNIKI PROGRAMOWANIA - projekt 3\n",
    "### Maciej Truchanowski 197780\n",
    "### Kornel Wasilewski 197904"
   ]
  },
  {
   "cell_type": "markdown",
   "metadata": {},
   "source": [
    "Wykorzystane narzędzia i biblioteki:\n",
    "- biblioteka pybind11 – narzędzie, które umożliwia integrację kodu napisanego w C++ z językiem Python, tworzy moduł Pythona\n",
    "- cmake – do generowania biblioteki używaniej w projekcie\n",
    "- biblioteka matplot – do generowania wykresów przetwarzanych sygnałów\n",
    "- program gnuplot – do wyświetlania sygnałów\n",
    "- biblioteka audiofile – do przetwarzania sygnałów audio"
   ]
  },
  {
   "cell_type": "markdown",
   "metadata": {},
   "source": [
    "# Funkcje w kodzie c++"
   ]
  },
  {
   "cell_type": "markdown",
   "metadata": {},
   "source": [
    "# Generowanie Sygnałów\n",
    "- ### Sinus i Cosinus\n",
    "Przebieg funkcji sinus i cosinus uzależniony od częstotliwości."
   ]
  },
  {
   "cell_type": "code",
   "execution_count": 1,
   "metadata": {
    "vscode": {
     "languageId": "cpp"
    }
   },
   "outputs": [],
   "source": [
    "int sinus(double frequency)\n",
    "{\n",
    "    using namespace matplot;\n",
    "    \n",
    "    std::vector<double> x = linspace(0, 4 * M_PI);\n",
    "    std::vector<double> y = transform(x, [frequency](auto x) { return sin(frequency*x); });\n",
    "    plot(x, y);\n",
    "    title(\"Sygnal Sinusoidalny\");\n",
    "    xlabel(\"x\");\n",
    "    ylabel(\"sin(frequency*x)\");\n",
    "    show();\n",
    "    return 0;\n",
    "}"
   ]
  },
  {
   "cell_type": "markdown",
   "metadata": {},
   "source": [
    "frequency = 1\n",
    "\n",
    "![Sin plot](sinus.png)"
   ]
  },
  {
   "cell_type": "markdown",
   "metadata": {},
   "source": [
    "frequency = 2\n",
    "\n",
    "![sin2 plot](sin2.png)"
   ]
  },
  {
   "cell_type": "code",
   "execution_count": null,
   "metadata": {
    "vscode": {
     "languageId": "cpp"
    }
   },
   "outputs": [],
   "source": [
    "int cosinus(double frequency)\n",
    "{\n",
    "    using namespace matplot;\n",
    "    \n",
    "    std::vector<double> x = linspace(0, 4 * M_PI);\n",
    "    std::vector<double> y = transform(x, [frequency](auto x) { return cos(frequency*x); });\n",
    "    plot(x, y);\n",
    "    title(\"Sygnal Cosinusoidalny\");\n",
    "    xlabel(\"x\");\n",
    "    ylabel(\"cos(frequency*x)\");\n",
    "    show();\n",
    "    return 0;\n",
    "}"
   ]
  },
  {
   "cell_type": "markdown",
   "metadata": {},
   "source": [
    "frequency = 1\n",
    "\n",
    "![Cos plot](cosinus.png)"
   ]
  },
  {
   "cell_type": "markdown",
   "metadata": {},
   "source": [
    "frequency = 2\n",
    "\n",
    "![cos2 plot](cos2.png)"
   ]
  },
  {
   "cell_type": "markdown",
   "metadata": {},
   "source": [
    "- ### Prostokątny i piłokształtny\n",
    "Funkcje realizujące generowanie sygnału prostokątnego oraz piłokształtnego."
   ]
  },
  {
   "cell_type": "code",
   "execution_count": null,
   "metadata": {
    "vscode": {
     "languageId": "cpp"
    }
   },
   "outputs": [],
   "source": [
    "int prostokatny(double frequency)\n",
    "{\n",
    "    using namespace matplot;\n",
    "    double f = 1/frequency;\n",
    "    std::vector<double> x;\n",
    "    std::vector<double> y;\n",
    "    for(int k = 0; k < 20;k+=2)\n",
    "    {\n",
    "        x.push_back(f*k);\n",
    "        y.push_back(-1);\n",
    "        x.push_back(f*k);\n",
    "        y.push_back(1);\n",
    "        x.push_back(f*k+f);\n",
    "        y.push_back(1);\n",
    "        x.push_back(f*k+f);\n",
    "        y.push_back(-1);\n",
    "        x.push_back(f*k + 2*f);\n",
    "        y.push_back(-1);\n",
    "    }\n",
    "    plot(x, y);\n",
    "    title(\"Sygnal Prostokatny\");\n",
    "    xlabel(\"X\");\n",
    "    ylabel(\"Y\");\n",
    "    show();\n",
    "    return 0;\n",
    "}"
   ]
  },
  {
   "cell_type": "markdown",
   "metadata": {},
   "source": [
    "frequency = 1\n",
    "\n",
    "![Rectangular plot](prost.png)"
   ]
  },
  {
   "cell_type": "markdown",
   "metadata": {},
   "source": [
    "frequency = 2\n",
    "\n",
    "![Rectangular2 plot](prost2.png)"
   ]
  },
  {
   "cell_type": "code",
   "execution_count": null,
   "metadata": {
    "vscode": {
     "languageId": "cpp"
    }
   },
   "outputs": [],
   "source": [
    "int piloksztaltny(double frequency)\n",
    "{\n",
    "    using namespace matplot;\n",
    "    double f = 1/frequency;\n",
    "    std::vector<double> x;\n",
    "    std::vector<double> y;\n",
    "    for(int k = 0; k < 10;k++)\n",
    "    {\n",
    "        x.push_back(f*k);\n",
    "        y.push_back(-1);\n",
    "        x.push_back(f*k +f);\n",
    "        y.push_back(1);\n",
    "    }\n",
    "    plot(x, y);\n",
    "    title(\"Sygnal Piloksztaltny\");\n",
    "    xlabel(\"X\");\n",
    "    ylabel(\"Y\");\n",
    "    show();\n",
    "    return 0;\n",
    "}"
   ]
  },
  {
   "cell_type": "markdown",
   "metadata": {},
   "source": [
    "frequency = 1\n",
    "\n",
    "![sawtooth plot](piloksz.png)"
   ]
  },
  {
   "cell_type": "markdown",
   "metadata": {},
   "source": [
    "frequency = 2\n",
    "\n",
    "![sawtooth2 plot](piloksz2.png)"
   ]
  },
  {
   "cell_type": "markdown",
   "metadata": {},
   "source": [
    "# Wizualizacja sygnału dźwiękowego\n",
    "Funkcja mająca na celu wyświetlenie sygnału dźwiękowego z pliku \"test-audio\", za pomocą biblioteki AudioFile."
   ]
  },
  {
   "cell_type": "code",
   "execution_count": null,
   "metadata": {
    "vscode": {
     "languageId": "cpp"
    }
   },
   "outputs": [],
   "source": [
    "int Wizualizacja()\n",
    "{\n",
    "    using namespace matplot;\n",
    "    std::vector<double> x;\n",
    "    std::vector<double> y;\n",
    "\n",
    "    const std::string inputFilePath = std::string (PROJECT_BINARY_DIR) + \"/test-audio.wav\";\n",
    "    AudioFile<double> audioFile;\n",
    "    audioFile.load (inputFilePath);\n",
    "    int channel = 0;\n",
    "    int numSamples = audioFile.getNumSamplesPerChannel();\n",
    "    if(numSamples>400)\n",
    "    {\n",
    "        numSamples = 400;\n",
    "    }\n",
    "        \n",
    "    for (int i = 0; i < numSamples; i++)\n",
    "    {\n",
    "        double currentSample = audioFile.samples[channel][i];\n",
    "        x.push_back(i);\n",
    "        y.push_back(currentSample);\n",
    "    }\n",
    "    plot(x, y);\n",
    "    title(\"Wizualizacja Sygnalu\");\n",
    "    xlabel(\"X\");\n",
    "    ylabel(\"Y\");\n",
    "\n",
    "    return 0;\n",
    "}"
   ]
  },
  {
   "cell_type": "markdown",
   "metadata": {},
   "source": [
    "![audio plot](wizual.png)"
   ]
  },
  {
   "cell_type": "markdown",
   "metadata": {},
   "source": [
    "# Progowanie\n",
    "Funkcja zwracająca wartości 0 lub 1 w zależności od przyjętego progu i danej wartości w pliku dźwiękowym."
   ]
  },
  {
   "cell_type": "code",
   "execution_count": 6,
   "metadata": {
    "vscode": {
     "languageId": "cpp"
    }
   },
   "outputs": [],
   "source": [
    "int progowanie(double prog)\n",
    "{\n",
    "    using namespace matplot;\n",
    "    std::vector<double> x;\n",
    "    std::vector<double> y;\n",
    "\n",
    "    const std::string inputFilePath = std::string (PROJECT_BINARY_DIR) + \"/test-audio.wav\";\n",
    "    AudioFile<double> audioFile;\n",
    "    audioFile.load (inputFilePath);\n",
    "    int channel = 0;\n",
    "    int numSamples = audioFile.getNumSamplesPerChannel();\n",
    "    if(numSamples>400)\n",
    "    {\n",
    "        numSamples = 400;\n",
    "    }\n",
    "        \n",
    "    for (int i = 0; i < numSamples; i++)\n",
    "    {\n",
    "        double currentSample = audioFile.samples[channel][i];\n",
    "        x.push_back(i);\n",
    "        if(currentSample > prog)\n",
    "            y.push_back(1);\n",
    "        else\n",
    "            y.push_back(0);\n",
    "\n",
    "    }\n",
    "    plot(x, y);\n",
    "    title(\"progowanie\");\n",
    "    xlabel(\"X\");\n",
    "    ylabel(\"Y\");\n",
    "  \n",
    "    return 0;\n",
    "}"
   ]
  },
  {
   "cell_type": "markdown",
   "metadata": {},
   "source": [
    "prog = 0\n",
    "\n",
    "![treshold plot](prog.png)"
   ]
  },
  {
   "cell_type": "markdown",
   "metadata": {},
   "source": [
    "# DFT i IDFT\n",
    "- ### DFT i IDFT sinus\n",
    "Dyskretna transformata Furiera dla przebiegu sinusoidalnego."
   ]
  },
  {
   "cell_type": "code",
   "execution_count": 8,
   "metadata": {
    "vscode": {
     "languageId": "cpp"
    }
   },
   "outputs": [],
   "source": [
    "int DFT(double frequency)\n",
    "{\n",
    "    using namespace matplot;\n",
    "    \n",
    "    std::vector<double> x = linspace(0, 4*frequency * M_PI);\n",
    "    std::vector<double> a = transform(x, [frequency](auto x) { return sin(frequency*x); });\n",
    "    std::vector<double> REX;\n",
    "    std::vector<double> IMX;\n",
    "\n",
    "    for (int k = 0; k < a.size(); k++)\n",
    "    {\n",
    "        double A = 0;\n",
    "        double B = 0;\n",
    "        for(int n = 0; n < a.size(); n++)\n",
    "        {\n",
    "            A+= cos((2 * M_PI * k * n) / a.size()) * a[n];\n",
    "            B+= -sin((2 * M_PI * k * n) / a.size()) * a[n];\n",
    "        }\n",
    "        REX.push_back(A);\n",
    "        IMX.push_back(B);\n",
    "    }\n",
    "    plot(x,IMX);\n",
    "    title(\"DFT(sin)\");\n",
    "    xlabel(\"X\");\n",
    "    ylabel(\"IMX\");\n",
    "\n",
    "    return 0;\n",
    "}"
   ]
  },
  {
   "cell_type": "markdown",
   "metadata": {},
   "source": [
    "frequency = 1\n",
    "\n",
    "![DFT plot](dft.png)"
   ]
  },
  {
   "cell_type": "markdown",
   "metadata": {},
   "source": [
    "frequency = 2\n",
    "\n",
    "![DFT2 plot](DFT2.png)"
   ]
  },
  {
   "cell_type": "markdown",
   "metadata": {},
   "source": [
    "Odworotna transformata Furiera, napisana w celu sprawdzenia poprawności działania funkcji DFT."
   ]
  },
  {
   "cell_type": "code",
   "execution_count": null,
   "metadata": {
    "vscode": {
     "languageId": "cpp"
    }
   },
   "outputs": [],
   "source": [
    "int IDFT(double frequency)\n",
    "{\n",
    "    using namespace matplot;\n",
    "    \n",
    "    std::vector<double> x = linspace(0, 4*frequency * M_PI);\n",
    "    std::vector<double> a = transform(x, [frequency](auto x) { return sin(frequency*x); });\n",
    "    std::vector<double> REX;\n",
    "    std::vector<double> IMX;\n",
    "\n",
    "    for (int k = 0; k < a.size(); k++)\n",
    "    {\n",
    "        double A = 0;\n",
    "        double B = 0;\n",
    "        for(int n = 0; n < a.size(); n++)\n",
    "        {\n",
    "            A+= cos((2 * M_PI * k * n) / a.size()) * a[n];\n",
    "            B+= -sin((2 * M_PI * k * n) / a.size()) * a[n];\n",
    "        }\n",
    "        REX.push_back(A);\n",
    "        IMX.push_back(B);\n",
    "    }\n",
    "    \n",
    "    std::vector<double> Y;\n",
    "    for (int i = 0; i < a.size(); i++)\n",
    "    {\n",
    "        double c = 0;\n",
    "        for (int k = 0; k < a.size(); k++)\n",
    "        {\n",
    "            c += REX[k] * cos(2*M_PI*k*i/a.size());\n",
    "            c += -IMX[k] * sin(2*M_PI*k*i/a.size());\n",
    "        }\n",
    "        Y.push_back(c);\n",
    "        \n",
    "    }\n",
    "\n",
    "    plot(x,Y);\n",
    "    title(\"IDFT\");\n",
    "    xlabel(\"X\");\n",
    "    ylabel(\"Y\");\n",
    "    return 0;\n",
    "}"
   ]
  },
  {
   "cell_type": "markdown",
   "metadata": {},
   "source": [
    "frequency = 1\n",
    "\n",
    "![IDFT plot](idft.png)\n",
    "\n",
    "\n",
    "Wykres jest identyczny z orginałem więc funkcja DFT została zrealizowana poprawnie."
   ]
  },
  {
   "cell_type": "markdown",
   "metadata": {},
   "source": [
    "frequency = 2\n",
    "\n",
    "![IDFT2 plot](idft2.png)"
   ]
  },
  {
   "cell_type": "markdown",
   "metadata": {},
   "source": [
    "- ### DFT i IDFT dla sygnału dźwiękowego\n",
    "Dyskretna transformata Furiera dla sygnału dźwiękowego."
   ]
  },
  {
   "cell_type": "code",
   "execution_count": null,
   "metadata": {
    "vscode": {
     "languageId": "cpp"
    }
   },
   "outputs": [],
   "source": [
    "int DFT_audio()\n",
    "{\n",
    "    using namespace matplot;\n",
    "    std::vector<double> x;\n",
    "    std::vector<double> a;\n",
    "    std::vector<double> REX;\n",
    "    std::vector<double> IMX;\n",
    "\n",
    "    const std::string inputFilePath = std::string (PROJECT_BINARY_DIR) + \"/test-audio.wav\";\n",
    "    AudioFile<double> audioFile;\n",
    "    audioFile.load (inputFilePath);\n",
    "    int channel = 0;\n",
    "    int numSamples = audioFile.getNumSamplesPerChannel();\n",
    "    if(numSamples>400)\n",
    "    {\n",
    "        numSamples = 400;\n",
    "    }\n",
    "\n",
    "    for (int i = 0; i < numSamples; i++)\n",
    "    {\n",
    "        double currentSample = audioFile.samples[channel][i];\n",
    "        x.push_back(i);\n",
    "        a.push_back(currentSample);\n",
    "    }\n",
    "\n",
    "    for (int k = 0; k < a.size(); k++)\n",
    "    {\n",
    "        double A = 0;\n",
    "        double B = 0;\n",
    "        for(int n = 0; n < a.size(); n++)\n",
    "        {\n",
    "            A+= cos((2 * M_PI * k * n) / a.size()) * a[n];\n",
    "            B+= -sin((2 * M_PI * k * n) / a.size()) * a[n];\n",
    "        }\n",
    "        REX.push_back(A);\n",
    "        IMX.push_back(B);\n",
    "    }\n",
    "    plot(x,IMX);\n",
    "    title(\"DFT(audio)\");\n",
    "    xlabel(\"X\");\n",
    "    ylabel(\"IMX\");\n",
    "\n",
    "\n",
    "    return 0;\n",
    "}"
   ]
  },
  {
   "cell_type": "markdown",
   "metadata": {},
   "source": [
    "![DFT_audio plot](dft_audio.png)"
   ]
  },
  {
   "cell_type": "markdown",
   "metadata": {},
   "source": [
    "Odwrotna transformata Furiera dla sygnału dźwiękowego"
   ]
  },
  {
   "cell_type": "code",
   "execution_count": null,
   "metadata": {
    "vscode": {
     "languageId": "cpp"
    }
   },
   "outputs": [],
   "source": [
    "\n",
    "int IDFT_audio()\n",
    "{\n",
    "    using namespace matplot;\n",
    "    std::vector<double> x;\n",
    "    std::vector<double> a;\n",
    "    std::vector<double> REX;\n",
    "    std::vector<double> IMX;\n",
    "\n",
    "    const std::string inputFilePath = std::string (PROJECT_BINARY_DIR) + \"/test-audio.wav\";\n",
    "    AudioFile<double> audioFile;\n",
    "    audioFile.load (inputFilePath);\n",
    "    int channel = 0;\n",
    "    int numSamples = audioFile.getNumSamplesPerChannel();\n",
    "    if(numSamples>400)\n",
    "    {\n",
    "        numSamples = 400;\n",
    "    }\n",
    "\n",
    "    for (int i = 0; i < numSamples; i++)\n",
    "    {\n",
    "        double currentSample = audioFile.samples[channel][i];\n",
    "        x.push_back(i);\n",
    "        a.push_back(currentSample);\n",
    "    }\n",
    "\n",
    "    for (int k = 0; k < a.size(); k++)\n",
    "    {\n",
    "        double A = 0;\n",
    "        double B = 0;\n",
    "        for(int n = 0; n < a.size(); n++)\n",
    "        {\n",
    "            A+= cos((2 * M_PI * k * n) / a.size()) * a[n];\n",
    "            B+= -sin((2 * M_PI * k * n) / a.size()) * a[n];\n",
    "        }\n",
    "        REX.push_back(A);\n",
    "        IMX.push_back(B);\n",
    "    }\n",
    "\n",
    "    std::vector<double> Y;\n",
    "    for (int i = 0; i < a.size(); i++)\n",
    "    {\n",
    "        double c = 0;\n",
    "        for (int k = 0; k < a.size(); k++)\n",
    "        {\n",
    "            c += REX[k] * cos(2*M_PI*k*i/a.size());\n",
    "            c += -IMX[k] * sin(2*M_PI*k*i/a.size());\n",
    "        }\n",
    "        Y.push_back(c);\n",
    "    }\n",
    "\n",
    "    plot(x,Y);\n",
    "    title(\"IDFT\");\n",
    "    xlabel(\"X\");\n",
    "    ylabel(\"Y\");\n",
    "\n",
    "    return 0;\n",
    "}"
   ]
  },
  {
   "cell_type": "markdown",
   "metadata": {},
   "source": [
    "![IDFT_audio plot](idft_audio.png)\n",
    "\n",
    "\n",
    "Wykres identyczny z orginalnym przebiegiem sygnału dźwiękowego."
   ]
  },
  {
   "cell_type": "markdown",
   "metadata": {},
   "source": [
    "# Moduł Pythona"
   ]
  },
  {
   "cell_type": "code",
   "execution_count": null,
   "metadata": {
    "vscode": {
     "languageId": "cpp"
    }
   },
   "outputs": [],
   "source": [
    "PYBIND11_MODULE(TP_projekt3, m) {\n",
    "\n",
    "    m.def(\"sinus\",&sinus);\n",
    "    m.def(\"cosinus\",&cosinus);\n",
    "    m.def(\"prostokatny\",&prostokatny);\n",
    "    m.def(\"piloksztaltny\",&piloksztaltny);\n",
    "    m.def(\"Wizualizacja\",&Wizualizacja);\n",
    "    m.def(\"progowanie\",&progowanie);\n",
    "    m.def(\"DFT\",&DFT);\n",
    "    m.def(\"IDFT\",&IDFT);\n",
    "    m.def(\"DFT_audio\",&DFT_audio);\n",
    "    m.def(\"IDFT_audio\",&IDFT_audio);\n",
    "\n",
    "#ifdef VERSION_INFO\n",
    "    m.attr(\"__version__\") = MACRO_STRINGIFY(VERSION_INFO);\n",
    "#else\n",
    "    m.attr(\"__version__\") = \"dev\";\n",
    "#endif\n",
    "}"
   ]
  },
  {
   "cell_type": "markdown",
   "metadata": {},
   "source": [
    "# CMakeLists\n"
   ]
  },
  {
   "cell_type": "code",
   "execution_count": null,
   "metadata": {
    "vscode": {
     "languageId": "cpp"
    }
   },
   "outputs": [],
   "source": [
    "cmake_minimum_required(VERSION 3.10)\n",
    "\n",
    "project(TP_projekt3)\n",
    "\n",
    "include_directories (${AudioFile_SOURCE_DIR})\n",
    "\n",
    "add_subdirectory(pybind11)\n",
    "add_subdirectory(AudioFile)\n",
    "add_subdirectory(matplotplusplus)\n",
    "add_definitions (-DPROJECT_BINARY_DIR=\"${CMAKE_CURRENT_BINARY_DIR}\")\n",
    "file (COPY test-audio.wav DESTINATION ${CMAKE_CURRENT_BINARY_DIR})\n",
    "\n",
    "\n",
    "pybind11_add_module(TP_projekt3 main.cpp)\n",
    "\n",
    "target_link_libraries(TP_projekt3 PUBLIC matplot)\n",
    "target_link_libraries (TP_projekt3 PUBLIC AudioFile)"
   ]
  }
 ],
 "metadata": {
  "kernelspec": {
   "display_name": "phd",
   "language": "python",
   "name": "python3"
  },
  "language_info": {
   "codemirror_mode": {
    "name": "ipython",
    "version": 3
   },
   "file_extension": ".py",
   "mimetype": "text/x-python",
   "name": "python",
   "nbconvert_exporter": "python",
   "pygments_lexer": "ipython3",
   "version": "3.11.7"
  }
 },
 "nbformat": 4,
 "nbformat_minor": 2
}
